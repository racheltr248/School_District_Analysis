{
 "cells": [
  {
   "cell_type": "code",
   "execution_count": 1,
   "id": "4cfa3e23",
   "metadata": {},
   "outputs": [
    {
     "name": "stdout",
     "output_type": "stream",
     "text": [
      "Hi\n"
     ]
    }
   ],
   "source": [
    "def say_something():\n",
    "    ra_says = \"Hi\"\n",
    "    print(ra_says)\n",
    "\n",
    "say_something()"
   ]
  },
  {
   "cell_type": "code",
   "execution_count": null,
   "id": "d9d07564",
   "metadata": {},
   "outputs": [],
   "source": []
  }
 ],
 "metadata": {
  "kernelspec": {
   "display_name": "PythonData",
   "language": "python",
   "name": "pythondata"
  },
  "language_info": {
   "codemirror_mode": {
    "name": "ipython",
    "version": 3
   },
   "file_extension": ".py",
   "mimetype": "text/x-python",
   "name": "python",
   "nbconvert_exporter": "python",
   "pygments_lexer": "ipython3",
   "version": "3.7.13"
  }
 },
 "nbformat": 4,
 "nbformat_minor": 5
}
